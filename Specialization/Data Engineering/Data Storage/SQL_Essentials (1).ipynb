{
  "metadata": {
    "colab": {
      "provenance": []
    },
    "kernelspec": {
      "name": "python",
      "display_name": "Python (Pyodide)",
      "language": "python"
    },
    "language_info": {
      "codemirror_mode": {
        "name": "python",
        "version": 3
      },
      "file_extension": ".py",
      "mimetype": "text/x-python",
      "name": "python",
      "nbconvert_exporter": "python",
      "pygments_lexer": "ipython3",
      "version": "3.8"
    }
  },
  "nbformat_minor": 4,
  "nbformat": 4,
  "cells": [
    {
      "cell_type": "markdown",
      "source": "## Setup",
      "metadata": {
        "id": "74ztn_ipqhrK"
      }
    },
    {
      "cell_type": "code",
      "source": "import sqlite3\nimport uuid",
      "metadata": {
        "id": "KZvB69PwI5xT",
        "trusted": true
      },
      "execution_count": 1,
      "outputs": []
    },
    {
      "cell_type": "markdown",
      "source": "## Code practice",
      "metadata": {
        "id": "cjxE1FKzqwMD"
      }
    },
    {
      "cell_type": "markdown",
      "source": "### Question 1\n\nCreate a database with three tables named `employees`, `salaries` and `departments`. The `employees` table should have these attributes *id*, *name* *department_id*. The `salaries` should have two attributes *id*, *employee_id* and *amount*. The `departments` should have two columns *id* and *dept_name*.",
      "metadata": {
        "id": "d-qTKByQSNTA"
      }
    },
    {
      "cell_type": "code",
      "source": "unique_filename = f'{uuid.uuid4().hex}'",
      "metadata": {
        "id": "GzMxlWRt7M6X",
        "trusted": true
      },
      "execution_count": 2,
      "outputs": []
    },
    {
      "cell_type": "code",
      "source": "conn = sqlite3.connect(f'/tmp/{unique_filename}_sample.db')",
      "metadata": {
        "id": "1HDaDIVkJSQa",
        "trusted": true
      },
      "execution_count": 3,
      "outputs": []
    },
    {
      "cell_type": "code",
      "source": "cursor = conn.cursor()",
      "metadata": {
        "id": "Grc_A_MGJyBx",
        "trusted": true
      },
      "execution_count": 4,
      "outputs": []
    },
    {
      "cell_type": "code",
      "source": "#create employees\ncursor.execute('''CREATE TABLE IF NOT EXISTS employees\n                  (id INTEGER PRIMARY KEY, name TEXT, department_id INTEGER)''')\n\n# Create the salaries table\ncursor.execute('''CREATE TABLE IF NOT EXISTS salaries\n                  (id INTEGER PRIMARY KEY, employee_id INTEGER, amount INTEGER)''')\n\n# Create the departments table\ncursor.execute('''CREATE TABLE IF NOT EXISTS departments\n                  (id INTEGER PRIMARY KEY , dept_name TEXT)''')",
      "metadata": {
        "colab": {
          "base_uri": "https://localhost:8080/"
        },
        "id": "9JLfdY3_JaPD",
        "outputId": "6000cd50-acee-4ec0-8876-75742116fb81",
        "trusted": true
      },
      "execution_count": 5,
      "outputs": [
        {
          "execution_count": 5,
          "output_type": "execute_result",
          "data": {
            "text/plain": "<sqlite3.Cursor at 0x2424440>"
          },
          "metadata": {}
        }
      ]
    },
    {
      "cell_type": "markdown",
      "source": "### Question 2\n\nWrite a MySQL query to add 10 rows of data into the `employees` table and the `salaries` table, and insert three departments into the departments table.",
      "metadata": {
        "id": "z7mQ_NReSXlN"
      }
    },
    {
      "cell_type": "code",
      "source": "for i in range(1, 11):\n    name = f\"Employee {i}\"\n    department_id = i % 3 + 1\n    cursor.execute(\"INSERT OR IGNORE INTO employees (name, department_id) VALUES (?, ?)\", (name, department_id))\n\n# Insert data into the salaries table\nfor i in range(1, 11):\n    employee_id = i\n    amount = 5000 + i * 1000\n    cursor.execute(\"INSERT OR IGNORE INTO salaries (employee_id, amount) VALUES (?, ?)\", (employee_id, amount))\n\n# Insert data into the departments table\ndepartments = [\n    (1, 'HR'),\n    (2, 'Engineering'),\n    (3, 'Marketing')\n]\ncursor.executemany(\"INSERT OR IGNORE INTO departments (id, dept_name) VALUES (?, ?)\", departments)",
      "metadata": {
        "colab": {
          "base_uri": "https://localhost:8080/"
        },
        "id": "UZp4XzoDL7qC",
        "outputId": "3b85a9a1-e140-4866-bc6c-173a3e7de2fa",
        "trusted": true
      },
      "execution_count": 6,
      "outputs": [
        {
          "execution_count": 6,
          "output_type": "execute_result",
          "data": {
            "text/plain": "<sqlite3.Cursor at 0x2424440>"
          },
          "metadata": {}
        }
      ]
    },
    {
      "cell_type": "markdown",
      "source": "### Question 3\n\nRetrieve, store and display all the data from `employees` table.",
      "metadata": {
        "id": "o2nWPfFcS6n6"
      }
    },
    {
      "cell_type": "code",
      "source": "cursor.execute(\"SELECT * FROM employees\")\nemployees_data = cursor.fetchall()\nfor row in employees_data:\n    print(row)",
      "metadata": {
        "colab": {
          "base_uri": "https://localhost:8080/"
        },
        "id": "Tc_g48J9MAmH",
        "outputId": "51291e1d-b646-496c-b81e-51b15e4c8885",
        "trusted": true
      },
      "execution_count": 7,
      "outputs": [
        {
          "name": "stdout",
          "text": "(1, 'Employee 1', 2)\n(2, 'Employee 2', 3)\n(3, 'Employee 3', 1)\n(4, 'Employee 4', 2)\n(5, 'Employee 5', 3)\n(6, 'Employee 6', 1)\n(7, 'Employee 7', 2)\n(8, 'Employee 8', 3)\n(9, 'Employee 9', 1)\n(10, 'Employee 10', 2)\n",
          "output_type": "stream"
        }
      ]
    },
    {
      "cell_type": "markdown",
      "source": "### Question 4\n\nRetrieve, store and display all the data from `salaries` table.",
      "metadata": {
        "id": "pbadbSp1UWOi"
      }
    },
    {
      "cell_type": "code",
      "source": "cursor.execute(\"SELECT * FROM salaries\")\nsalaries_data = cursor.fetchall()\nfor row in salaries_data:\n    print(row)",
      "metadata": {
        "colab": {
          "base_uri": "https://localhost:8080/"
        },
        "id": "n2U2TumqMMh8",
        "outputId": "d2c29425-7408-4e33-fa40-cf8addc8fb2b",
        "trusted": true
      },
      "execution_count": 8,
      "outputs": [
        {
          "name": "stdout",
          "text": "(1, 1, 6000)\n(2, 2, 7000)\n(3, 3, 8000)\n(4, 4, 9000)\n(5, 5, 10000)\n(6, 6, 11000)\n(7, 7, 12000)\n(8, 8, 13000)\n(9, 9, 14000)\n(10, 10, 15000)\n",
          "output_type": "stream"
        }
      ]
    },
    {
      "cell_type": "markdown",
      "source": "### Question 5\n\nRetrieve, store and display all the data from `departments` table",
      "metadata": {
        "id": "0hXgiipCUarm"
      }
    },
    {
      "cell_type": "code",
      "source": "cursor.execute(\"SELECT * FROM departments\")\ndepart_data = cursor.fetchall()\nfor row in depart_data:\n    print(row)",
      "metadata": {
        "colab": {
          "base_uri": "https://localhost:8080/"
        },
        "id": "RJSnqq5gMTOt",
        "outputId": "332a0e0d-4cc7-4b8c-e2da-52d06630527d",
        "trusted": true
      },
      "execution_count": 9,
      "outputs": [
        {
          "name": "stdout",
          "text": "(1, 'HR')\n(2, 'Engineering')\n(3, 'Marketing')\n",
          "output_type": "stream"
        }
      ]
    },
    {
      "cell_type": "markdown",
      "source": "### Question 6\n\nRetrieve all employees along with their department names.",
      "metadata": {
        "id": "o6DjJfoEUknw"
      }
    },
    {
      "cell_type": "code",
      "source": "cursor.execute('''SELECT e.id, e.name, d.dept_name AS department_name\nFROM employees e\nJOIN departments d ON e.department_id = d.id''')\nret_1=cursor.fetchall()\nfor row in ret_1:\n    print(row)",
      "metadata": {
        "colab": {
          "base_uri": "https://localhost:8080/"
        },
        "id": "zsDx29XjNHfI",
        "outputId": "6a47a9f1-06a8-42b6-f526-061abc482fb6",
        "trusted": true
      },
      "execution_count": 10,
      "outputs": [
        {
          "name": "stdout",
          "text": "(1, 'Employee 1', 'Engineering')\n(2, 'Employee 2', 'Marketing')\n(3, 'Employee 3', 'HR')\n(4, 'Employee 4', 'Engineering')\n(5, 'Employee 5', 'Marketing')\n(6, 'Employee 6', 'HR')\n(7, 'Employee 7', 'Engineering')\n(8, 'Employee 8', 'Marketing')\n(9, 'Employee 9', 'HR')\n(10, 'Employee 10', 'Engineering')\n",
          "output_type": "stream"
        }
      ]
    },
    {
      "cell_type": "markdown",
      "source": "### Question 7\n\nRetrieve the total salary amount for each employee.",
      "metadata": {
        "id": "0AilQg11Ur0D"
      }
    },
    {
      "cell_type": "code",
      "source": "cursor.execute('''SELECT e.id, e.name, SUM(s.amount) AS total_salary\nFROM employees e\nJOIN salaries s ON e.id = s.employee_id\nGROUP BY e.id''')\nret_2=cursor.fetchall()\nfor row in ret_2:\n    print(row)",
      "metadata": {
        "colab": {
          "base_uri": "https://localhost:8080/"
        },
        "id": "TE2OQC6KSBY5",
        "outputId": "7be4e3c1-eefc-4272-dfec-7872205dec78",
        "trusted": true
      },
      "execution_count": 11,
      "outputs": [
        {
          "name": "stdout",
          "text": "(1, 'Employee 1', 6000)\n(2, 'Employee 2', 7000)\n(3, 'Employee 3', 8000)\n(4, 'Employee 4', 9000)\n(5, 'Employee 5', 10000)\n(6, 'Employee 6', 11000)\n(7, 'Employee 7', 12000)\n(8, 'Employee 8', 13000)\n(9, 'Employee 9', 14000)\n(10, 'Employee 10', 15000)\n",
          "output_type": "stream"
        }
      ]
    },
    {
      "cell_type": "markdown",
      "source": "### Question 8\n\nRetrieve the department with the highest average salary.",
      "metadata": {
        "id": "0NnBQRMvVrsm"
      }
    },
    {
      "cell_type": "code",
      "source": "cursor.execute('''SELECT d.dept_name AS department_name, AVG(s.amount) AS average_salary\nFROM departments d\nJOIN employees e ON d.id = e.department_id\nJOIN salaries s ON e.id = s.employee_id\nGROUP BY d.id\nORDER BY average_salary DESC\nLIMIT 1''')\nret_3=cursor.fetchall()\nfor row in ret_3:\n    print(row)",
      "metadata": {
        "colab": {
          "base_uri": "https://localhost:8080/"
        },
        "id": "hfrCZledVCpJ",
        "outputId": "c3eaec6e-a160-496e-d966-3e26448d0356",
        "trusted": true
      },
      "execution_count": 12,
      "outputs": [
        {
          "name": "stdout",
          "text": "('HR', 11000.0)\n",
          "output_type": "stream"
        }
      ]
    },
    {
      "cell_type": "markdown",
      "source": "### Question 9\n\nRetrieve the employee(s) with the highest salary.",
      "metadata": {
        "id": "Gptel_CLWvUm"
      }
    },
    {
      "cell_type": "code",
      "source": "cursor.execute('''SELECT e.name, s.amount AS salary\nFROM employees e\nJOIN salaries s ON e.id = s.employee_id\nWHERE s.amount = (SELECT MAX(amount) FROM salaries);\n''')\nret_4=cursor.fetchall()\nfor row in ret_4:\n    print(row)",
      "metadata": {
        "colab": {
          "base_uri": "https://localhost:8080/"
        },
        "id": "yte1V-ogVnlO",
        "outputId": "cc047731-c180-4a33-ae93-a2fa3cd5477c",
        "trusted": true
      },
      "execution_count": 13,
      "outputs": [
        {
          "name": "stdout",
          "text": "('Employee 10', 15000)\n",
          "output_type": "stream"
        }
      ]
    },
    {
      "cell_type": "markdown",
      "source": "### Question 10 (Views)\n\nWrite a MySQL query to create a view called \"employee_details\" that includes the employee's name, department name, and salary amount for each employee. Retrieve the details from the employees, departments, and salaries tables.",
      "metadata": {
        "id": "i8DarNgIW7KD"
      }
    },
    {
      "cell_type": "code",
      "source": "cursor.execute('''CREATE VIEW employee_details AS\nSELECT e.name AS employee_name, d.dept_name AS department_name, s.amount AS salary_amount\nFROM employees e\nJOIN departments d ON e.department_id = d.id\nJOIN salaries s ON e.id = s.employee_id''')\ncursor.execute('''SELECT * FROM employee_details''')\nret_5=cursor.fetchall()\nfor row in ret_5:\n    print(row)",
      "metadata": {
        "colab": {
          "base_uri": "https://localhost:8080/"
        },
        "id": "7_7kfkMnWHua",
        "outputId": "55437aed-057c-4617-9fdb-b9e08f76d60e",
        "trusted": true
      },
      "execution_count": 14,
      "outputs": [
        {
          "name": "stdout",
          "text": "('Employee 1', 'Engineering', 6000)\n('Employee 2', 'Marketing', 7000)\n('Employee 3', 'HR', 8000)\n('Employee 4', 'Engineering', 9000)\n('Employee 5', 'Marketing', 10000)\n('Employee 6', 'HR', 11000)\n('Employee 7', 'Engineering', 12000)\n('Employee 8', 'Marketing', 13000)\n('Employee 9', 'HR', 14000)\n('Employee 10', 'Engineering', 15000)\n",
          "output_type": "stream"
        }
      ]
    },
    {
      "cell_type": "markdown",
      "source": "### Question 11 (Window Functions)\n\nWrite a MySQL query to calculate the average salary for each department, along with the rank of each employee within their department based on their salary. Use a window function to achieve this, retrieving the department name, employee name, salary amount, average department salary, and employee rank.",
      "metadata": {
        "id": "NLpIhlhLYEkw"
      }
    },
    {
      "cell_type": "code",
      "source": "cursor.execute('''SELECT department_name, employee_name, salary_amount, avg_department_salary,\n       RANK() OVER (PARTITION BY department_name ORDER BY salary_amount DESC) AS employee_rank\nFROM (\n    SELECT e.name AS employee_name, d.dept_name AS department_name, s.amount AS salary_amount,\n           AVG(s.amount) OVER (PARTITION BY d.dept_name) AS avg_department_salary\n    FROM employees e\n    JOIN departments d ON e.department_id = d.id\n    JOIN salaries s ON e.id = s.employee_id\n) AS subquery;\n''')\nret_6=cursor.fetchall()\nfor row in ret_6:\n  print(row)",
      "metadata": {
        "colab": {
          "base_uri": "https://localhost:8080/"
        },
        "id": "Q143_JwjXoe-",
        "outputId": "ce9822f2-81cd-4781-acdf-a4d5ed636ad2",
        "trusted": true
      },
      "execution_count": 15,
      "outputs": [
        {
          "name": "stdout",
          "text": "('Engineering', 'Employee 10', 15000, 10500.0, 1)\n('Engineering', 'Employee 7', 12000, 10500.0, 2)\n('Engineering', 'Employee 4', 9000, 10500.0, 3)\n('Engineering', 'Employee 1', 6000, 10500.0, 4)\n('HR', 'Employee 9', 14000, 11000.0, 1)\n('HR', 'Employee 6', 11000, 11000.0, 2)\n('HR', 'Employee 3', 8000, 11000.0, 3)\n('Marketing', 'Employee 8', 13000, 10000.0, 1)\n('Marketing', 'Employee 5', 10000, 10000.0, 2)\n('Marketing', 'Employee 2', 7000, 10000.0, 3)\n",
          "output_type": "stream"
        }
      ]
    },
    {
      "cell_type": "markdown",
      "source": "### Question 12 (Subquery)\n\nWrite a MySQL query to retrieve the employee name, department name, and the highest salary in their department. Use a subquery to find the highest salary within each department, and then join the employees and departments tables to retrieve the corresponding employee and department details.",
      "metadata": {
        "id": "trsuLea9YjoQ"
      }
    },
    {
      "cell_type": "code",
      "source": "cursor.execute('''SELECT e.name AS employee_name, d.dept_name AS department_name, MAX(s.amount) AS highest_salary\nFROM employees e\nJOIN departments d ON e.department_id = d.id\nJOIN salaries s ON e.id = s.employee_id\nWHERE s.amount = (\n    SELECT MAX(amount)\n    FROM salaries\n    WHERE employee_id = e.id\n)\nGROUP BY d.dept_name;\n''')\nret_7=cursor.fetchall()\nfor row in ret_7:\n    print(row)",
      "metadata": {
        "colab": {
          "base_uri": "https://localhost:8080/"
        },
        "id": "928fZjajYRj8",
        "outputId": "48bde47c-4137-4420-a697-a1e8e1860e18",
        "trusted": true
      },
      "execution_count": 17,
      "outputs": [
        {
          "name": "stdout",
          "text": "('Employee 10', 'Engineering', 15000)\n('Employee 9', 'HR', 14000)\n('Employee 8', 'Marketing', 13000)\n",
          "output_type": "stream"
        }
      ]
    },
    {
      "cell_type": "code",
      "source": "",
      "metadata": {},
      "execution_count": null,
      "outputs": []
    }
  ]
}