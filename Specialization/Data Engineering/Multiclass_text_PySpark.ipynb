{
  "nbformat": 4,
  "nbformat_minor": 0,
  "metadata": {
    "colab": {
      "provenance": []
    },
    "kernelspec": {
      "name": "python3",
      "display_name": "Python 3"
    },
    "language_info": {
      "name": "python"
    }
  },
  "cells": [
    {
      "cell_type": "markdown",
      "source": [
        "## Setup"
      ],
      "metadata": {
        "id": "2NB_K-iUv5pk"
      }
    },
    {
      "cell_type": "markdown",
      "source": [
        "###Installing dependencies"
      ],
      "metadata": {
        "id": "uJGgIZlawjfm"
      }
    },
    {
      "cell_type": "code",
      "execution_count": null,
      "metadata": {
        "colab": {
          "base_uri": "https://localhost:8080/"
        },
        "id": "Rpa2mQmhlgng",
        "outputId": "bc588b58-e021-4324-b890-b1634b9c030a"
      },
      "outputs": [
        {
          "output_type": "stream",
          "name": "stdout",
          "text": [
            "Looking in indexes: https://pypi.org/simple, https://us-python.pkg.dev/colab-wheels/public/simple/\n",
            "Collecting pyspark\n",
            "  Downloading pyspark-3.3.2.tar.gz (281.4 MB)\n",
            "\u001b[2K     \u001b[90m━━━━━━━━━━━━━━━━━━━━━━━━━━━━━━━━━━━━━━━\u001b[0m \u001b[32m281.4/281.4 MB\u001b[0m \u001b[31m4.7 MB/s\u001b[0m eta \u001b[36m0:00:00\u001b[0m\n",
            "\u001b[?25h  Preparing metadata (setup.py) ... \u001b[?25l\u001b[?25hdone\n",
            "Collecting py4j==0.10.9.5\n",
            "  Downloading py4j-0.10.9.5-py2.py3-none-any.whl (199 kB)\n",
            "\u001b[2K     \u001b[90m━━━━━━━━━━━━━━━━━━━━━━━━━━━━━━━━━━━━━━\u001b[0m \u001b[32m199.7/199.7 KB\u001b[0m \u001b[31m21.6 MB/s\u001b[0m eta \u001b[36m0:00:00\u001b[0m\n",
            "\u001b[?25hBuilding wheels for collected packages: pyspark\n",
            "  Building wheel for pyspark (setup.py) ... \u001b[?25l\u001b[?25hdone\n",
            "  Created wheel for pyspark: filename=pyspark-3.3.2-py2.py3-none-any.whl size=281824025 sha256=2fe55169418e706ae8c74bfb7968fe817e72d9d2d2da8871c5efe7b6c3f600f9\n",
            "  Stored in directory: /root/.cache/pip/wheels/6c/e3/9b/0525ce8a69478916513509d43693511463c6468db0de237c86\n",
            "Successfully built pyspark\n",
            "Installing collected packages: py4j, pyspark\n",
            "Successfully installed py4j-0.10.9.5 pyspark-3.3.2\n"
          ]
        }
      ],
      "source": [
        "! pip install pyspark"
      ]
    },
    {
      "cell_type": "markdown",
      "source": [
        "###Connecting GDrive"
      ],
      "metadata": {
        "id": "a1D-SalDwm1e"
      }
    },
    {
      "cell_type": "code",
      "source": [
        "from google.colab import drive\n",
        "drive.mount(\"/content/gDrive\")"
      ],
      "metadata": {
        "colab": {
          "base_uri": "https://localhost:8080/"
        },
        "id": "qD7PNUkqlzGN",
        "outputId": "ef9a52f9-4231-4de6-ce10-d66e4da0444b"
      },
      "execution_count": null,
      "outputs": [
        {
          "output_type": "stream",
          "name": "stdout",
          "text": [
            "Mounted at /content/gDrive\n"
          ]
        }
      ]
    },
    {
      "cell_type": "markdown",
      "source": [
        "###Importing dependencies"
      ],
      "metadata": {
        "id": "yTthUMotwpwo"
      }
    },
    {
      "cell_type": "code",
      "source": [
        "import numpy as np\n",
        "from matplotlib import pyplot as plt\n",
        "import pandas as pd\n",
        "from pyspark import SparkContext\n",
        "from pyspark.ml import Pipeline\n",
        "from pyspark.ml.classification import LogisticRegression\n",
        "from pyspark.ml.evaluation import MulticlassClassificationEvaluator\n",
        "from pyspark.ml.feature import RegexTokenizer, StopWordsRemover, CountVectorizer,OneHotEncoder, StringIndexer, VectorAssembler,HashingTF, IDF\n",
        "from pyspark.ml.tuning import ParamGridBuilder, CrossValidator\n",
        "from pyspark.sql import SparkSession\n",
        "from pyspark.sql.functions import col\n",
        "import seaborn as sns"
      ],
      "metadata": {
        "id": "mfK4NaLIl7Ja"
      },
      "execution_count": null,
      "outputs": []
    },
    {
      "cell_type": "markdown",
      "source": [
        "##Spark session"
      ],
      "metadata": {
        "id": "1z08t4O5v9ky"
      }
    },
    {
      "cell_type": "code",
      "source": [
        "spark = SparkSession.builder.appName('Multi-Class Text Classification').getOrCreate()"
      ],
      "metadata": {
        "id": "H0PegzqOptNq"
      },
      "execution_count": null,
      "outputs": []
    },
    {
      "cell_type": "markdown",
      "source": [
        "## Data Opeartions"
      ],
      "metadata": {
        "id": "7yWKn4AlwD3J"
      }
    },
    {
      "cell_type": "markdown",
      "source": [
        "###Loding the data"
      ],
      "metadata": {
        "id": "kzgb228Awt5t"
      }
    },
    {
      "cell_type": "code",
      "source": [
        "path=\"/content/gDrive/MyDrive/Datasets/text_data/bbc-text.csv\"\n",
        "data = spark.read.csv(path, header=True, inferSchema=True)"
      ],
      "metadata": {
        "id": "gbpLhJBsrKZW"
      },
      "execution_count": null,
      "outputs": []
    },
    {
      "cell_type": "code",
      "source": [
        "data.printSchema()"
      ],
      "metadata": {
        "colab": {
          "base_uri": "https://localhost:8080/"
        },
        "id": "7nvNrxIpsbFR",
        "outputId": "d3d64b48-92e9-4ee6-ac60-985c3453bcb9"
      },
      "execution_count": null,
      "outputs": [
        {
          "output_type": "stream",
          "name": "stdout",
          "text": [
            "root\n",
            " |-- category: string (nullable = true)\n",
            " |-- text: string (nullable = true)\n",
            "\n"
          ]
        }
      ]
    },
    {
      "cell_type": "code",
      "source": [
        "data.columns"
      ],
      "metadata": {
        "colab": {
          "base_uri": "https://localhost:8080/"
        },
        "id": "orcbxJ4ushNa",
        "outputId": "10227a06-8eac-4c5c-dc3b-3b90b0bd7e14"
      },
      "execution_count": null,
      "outputs": [
        {
          "output_type": "execute_result",
          "data": {
            "text/plain": [
              "['category', 'text']"
            ]
          },
          "metadata": {},
          "execution_count": 8
        }
      ]
    },
    {
      "cell_type": "code",
      "source": [
        "pd.DataFrame(data.take(5), columns=data.columns)"
      ],
      "metadata": {
        "colab": {
          "base_uri": "https://localhost:8080/",
          "height": 206
        },
        "id": "PmS0vxKgsj3W",
        "outputId": "1c9094e6-a666-45a3-8a88-e6de9e1e97b3"
      },
      "execution_count": null,
      "outputs": [
        {
          "output_type": "execute_result",
          "data": {
            "text/plain": [
              "        category                                               text\n",
              "0           tech  tv future in the hands of viewers with home th...\n",
              "1       business  worldcom boss  left books alone  former worldc...\n",
              "2          sport  tigers wary of farrell  gamble  leicester say ...\n",
              "3          sport  yeading face newcastle in fa cup premiership s...\n",
              "4  entertainment  ocean s twelve raids box office ocean s twelve..."
            ],
            "text/html": [
              "\n",
              "  <div id=\"df-2a3952e6-afc6-43b6-846f-0509fc841d05\">\n",
              "    <div class=\"colab-df-container\">\n",
              "      <div>\n",
              "<style scoped>\n",
              "    .dataframe tbody tr th:only-of-type {\n",
              "        vertical-align: middle;\n",
              "    }\n",
              "\n",
              "    .dataframe tbody tr th {\n",
              "        vertical-align: top;\n",
              "    }\n",
              "\n",
              "    .dataframe thead th {\n",
              "        text-align: right;\n",
              "    }\n",
              "</style>\n",
              "<table border=\"1\" class=\"dataframe\">\n",
              "  <thead>\n",
              "    <tr style=\"text-align: right;\">\n",
              "      <th></th>\n",
              "      <th>category</th>\n",
              "      <th>text</th>\n",
              "    </tr>\n",
              "  </thead>\n",
              "  <tbody>\n",
              "    <tr>\n",
              "      <th>0</th>\n",
              "      <td>tech</td>\n",
              "      <td>tv future in the hands of viewers with home th...</td>\n",
              "    </tr>\n",
              "    <tr>\n",
              "      <th>1</th>\n",
              "      <td>business</td>\n",
              "      <td>worldcom boss  left books alone  former worldc...</td>\n",
              "    </tr>\n",
              "    <tr>\n",
              "      <th>2</th>\n",
              "      <td>sport</td>\n",
              "      <td>tigers wary of farrell  gamble  leicester say ...</td>\n",
              "    </tr>\n",
              "    <tr>\n",
              "      <th>3</th>\n",
              "      <td>sport</td>\n",
              "      <td>yeading face newcastle in fa cup premiership s...</td>\n",
              "    </tr>\n",
              "    <tr>\n",
              "      <th>4</th>\n",
              "      <td>entertainment</td>\n",
              "      <td>ocean s twelve raids box office ocean s twelve...</td>\n",
              "    </tr>\n",
              "  </tbody>\n",
              "</table>\n",
              "</div>\n",
              "      <button class=\"colab-df-convert\" onclick=\"convertToInteractive('df-2a3952e6-afc6-43b6-846f-0509fc841d05')\"\n",
              "              title=\"Convert this dataframe to an interactive table.\"\n",
              "              style=\"display:none;\">\n",
              "        \n",
              "  <svg xmlns=\"http://www.w3.org/2000/svg\" height=\"24px\"viewBox=\"0 0 24 24\"\n",
              "       width=\"24px\">\n",
              "    <path d=\"M0 0h24v24H0V0z\" fill=\"none\"/>\n",
              "    <path d=\"M18.56 5.44l.94 2.06.94-2.06 2.06-.94-2.06-.94-.94-2.06-.94 2.06-2.06.94zm-11 1L8.5 8.5l.94-2.06 2.06-.94-2.06-.94L8.5 2.5l-.94 2.06-2.06.94zm10 10l.94 2.06.94-2.06 2.06-.94-2.06-.94-.94-2.06-.94 2.06-2.06.94z\"/><path d=\"M17.41 7.96l-1.37-1.37c-.4-.4-.92-.59-1.43-.59-.52 0-1.04.2-1.43.59L10.3 9.45l-7.72 7.72c-.78.78-.78 2.05 0 2.83L4 21.41c.39.39.9.59 1.41.59.51 0 1.02-.2 1.41-.59l7.78-7.78 2.81-2.81c.8-.78.8-2.07 0-2.86zM5.41 20L4 18.59l7.72-7.72 1.47 1.35L5.41 20z\"/>\n",
              "  </svg>\n",
              "      </button>\n",
              "      \n",
              "  <style>\n",
              "    .colab-df-container {\n",
              "      display:flex;\n",
              "      flex-wrap:wrap;\n",
              "      gap: 12px;\n",
              "    }\n",
              "\n",
              "    .colab-df-convert {\n",
              "      background-color: #E8F0FE;\n",
              "      border: none;\n",
              "      border-radius: 50%;\n",
              "      cursor: pointer;\n",
              "      display: none;\n",
              "      fill: #1967D2;\n",
              "      height: 32px;\n",
              "      padding: 0 0 0 0;\n",
              "      width: 32px;\n",
              "    }\n",
              "\n",
              "    .colab-df-convert:hover {\n",
              "      background-color: #E2EBFA;\n",
              "      box-shadow: 0px 1px 2px rgba(60, 64, 67, 0.3), 0px 1px 3px 1px rgba(60, 64, 67, 0.15);\n",
              "      fill: #174EA6;\n",
              "    }\n",
              "\n",
              "    [theme=dark] .colab-df-convert {\n",
              "      background-color: #3B4455;\n",
              "      fill: #D2E3FC;\n",
              "    }\n",
              "\n",
              "    [theme=dark] .colab-df-convert:hover {\n",
              "      background-color: #434B5C;\n",
              "      box-shadow: 0px 1px 3px 1px rgba(0, 0, 0, 0.15);\n",
              "      filter: drop-shadow(0px 1px 2px rgba(0, 0, 0, 0.3));\n",
              "      fill: #FFFFFF;\n",
              "    }\n",
              "  </style>\n",
              "\n",
              "      <script>\n",
              "        const buttonEl =\n",
              "          document.querySelector('#df-2a3952e6-afc6-43b6-846f-0509fc841d05 button.colab-df-convert');\n",
              "        buttonEl.style.display =\n",
              "          google.colab.kernel.accessAllowed ? 'block' : 'none';\n",
              "\n",
              "        async function convertToInteractive(key) {\n",
              "          const element = document.querySelector('#df-2a3952e6-afc6-43b6-846f-0509fc841d05');\n",
              "          const dataTable =\n",
              "            await google.colab.kernel.invokeFunction('convertToInteractive',\n",
              "                                                     [key], {});\n",
              "          if (!dataTable) return;\n",
              "\n",
              "          const docLinkHtml = 'Like what you see? Visit the ' +\n",
              "            '<a target=\"_blank\" href=https://colab.research.google.com/notebooks/data_table.ipynb>data table notebook</a>'\n",
              "            + ' to learn more about interactive tables.';\n",
              "          element.innerHTML = '';\n",
              "          dataTable['output_type'] = 'display_data';\n",
              "          await google.colab.output.renderOutput(dataTable, element);\n",
              "          const docLink = document.createElement('div');\n",
              "          docLink.innerHTML = docLinkHtml;\n",
              "          element.appendChild(docLink);\n",
              "        }\n",
              "      </script>\n",
              "    </div>\n",
              "  </div>\n",
              "  "
            ]
          },
          "metadata": {},
          "execution_count": 10
        }
      ]
    },
    {
      "cell_type": "code",
      "source": [
        "data.groupBy(\"category\").count().orderBy(col(\"count\").desc()).show()"
      ],
      "metadata": {
        "colab": {
          "base_uri": "https://localhost:8080/"
        },
        "id": "9GTObUXts9ij",
        "outputId": "eee1c827-6da6-4d6c-ac0c-54c90c21ef96"
      },
      "execution_count": null,
      "outputs": [
        {
          "output_type": "stream",
          "name": "stdout",
          "text": [
            "+-------------+-----+\n",
            "|     Category|count|\n",
            "+-------------+-----+\n",
            "|        sport|  511|\n",
            "|     business|  510|\n",
            "|     politics|  417|\n",
            "|         tech|  401|\n",
            "|entertainment|  386|\n",
            "+-------------+-----+\n",
            "\n"
          ]
        }
      ]
    },
    {
      "cell_type": "markdown",
      "source": [
        "### Preprocessing"
      ],
      "metadata": {
        "id": "SQvUyQSAwxgf"
      }
    },
    {
      "cell_type": "code",
      "source": [
        "# regular expression tokenizer\n",
        "regexTokenizer = RegexTokenizer(inputCol=\"text\", outputCol=\"words\", pattern=\"\\\\W\")"
      ],
      "metadata": {
        "id": "lQLNeO93uQER"
      },
      "execution_count": null,
      "outputs": []
    },
    {
      "cell_type": "code",
      "source": [
        "# stop words\n",
        "add_stopwords = [\"http\",\"https\",\"amp\",\"rt\",\"t\",\"c\",\"the\"] # standard stop words\n",
        "\n",
        "stopwordsRemover = StopWordsRemover(inputCol=\"words\", outputCol=\"filtered\").setStopWords(add_stopwords)"
      ],
      "metadata": {
        "id": "i9qJKmMBulYl"
      },
      "execution_count": null,
      "outputs": []
    },
    {
      "cell_type": "markdown",
      "source": [
        "### Feature Enginnering"
      ],
      "metadata": {
        "id": "MKj3HgCqwzyC"
      }
    },
    {
      "cell_type": "code",
      "source": [
        "# bag of words count\n",
        "countVectors = CountVectorizer(inputCol=\"filtered\", outputCol=\"features\", vocabSize=10000, minDF=5)"
      ],
      "metadata": {
        "id": "gprfie7xunCV"
      },
      "execution_count": null,
      "outputs": []
    },
    {
      "cell_type": "code",
      "source": [
        "label_stringIdx = StringIndexer(inputCol = \"category\", outputCol = \"label\")"
      ],
      "metadata": {
        "id": "bfsGUP4iuxOq"
      },
      "execution_count": null,
      "outputs": []
    },
    {
      "cell_type": "markdown",
      "source": [
        "### Creating pipeline"
      ],
      "metadata": {
        "id": "2w9h9Yd6w4FI"
      }
    },
    {
      "cell_type": "code",
      "source": [
        "pipeline = Pipeline(stages=[regexTokenizer, stopwordsRemover, countVectors, label_stringIdx])\n",
        "\n",
        "# Fit the pipeline to training documents.\n",
        "training = pipeline.fit(data)\n",
        "dataset = training.transform(data)"
      ],
      "metadata": {
        "id": "3NZJzynsu_hR"
      },
      "execution_count": null,
      "outputs": []
    },
    {
      "cell_type": "code",
      "source": [
        "dataset.show(5)"
      ],
      "metadata": {
        "colab": {
          "base_uri": "https://localhost:8080/"
        },
        "id": "qC83pt2CvOzb",
        "outputId": "bb407529-6275-465d-aa98-e158998e60d2"
      },
      "execution_count": null,
      "outputs": [
        {
          "output_type": "stream",
          "name": "stdout",
          "text": [
            "+-------------+--------------------+--------------------+--------------------+--------------------+-----+\n",
            "|     category|                text|               words|            filtered|            features|label|\n",
            "+-------------+--------------------+--------------------+--------------------+--------------------+-----+\n",
            "|         tech|tv future in the ...|[tv, future, in, ...|[tv, future, in, ...|(9445,[0,1,2,3,4,...|  3.0|\n",
            "|     business|worldcom boss  le...|[worldcom, boss, ...|[worldcom, boss, ...|(9445,[0,1,2,3,4,...|  1.0|\n",
            "|        sport|tigers wary of fa...|[tigers, wary, of...|[tigers, wary, of...|(9445,[0,1,2,3,4,...|  0.0|\n",
            "|        sport|yeading face newc...|[yeading, face, n...|[yeading, face, n...|(9445,[0,1,2,3,4,...|  0.0|\n",
            "|entertainment|ocean s twelve ra...|[ocean, s, twelve...|[ocean, s, twelve...|(9445,[0,1,2,3,4,...|  4.0|\n",
            "+-------------+--------------------+--------------------+--------------------+--------------------+-----+\n",
            "only showing top 5 rows\n",
            "\n"
          ]
        }
      ]
    },
    {
      "cell_type": "markdown",
      "source": [
        "###Preparing data for ML model"
      ],
      "metadata": {
        "id": "WWTdSTi9w7V5"
      }
    },
    {
      "cell_type": "code",
      "source": [
        "### Randomly split data into training and test sets. set seed for reproducibility\n",
        "(trainingData, testData) = dataset.randomSplit([0.7, 0.3], seed = 100)\n",
        "print(\"Training Dataset Count: \" + str(trainingData.count()))\n",
        "print(\"Test Dataset Count: \" + str(testData.count()))"
      ],
      "metadata": {
        "colab": {
          "base_uri": "https://localhost:8080/"
        },
        "id": "p9r_VMDWvhjo",
        "outputId": "73fd8a85-a466-47aa-99db-ba87e7080190"
      },
      "execution_count": null,
      "outputs": [
        {
          "output_type": "stream",
          "name": "stdout",
          "text": [
            "Training Dataset Count: 1550\n",
            "Test Dataset Count: 675\n"
          ]
        }
      ]
    },
    {
      "cell_type": "markdown",
      "source": [
        "###Feature Engineering using TF-ID"
      ],
      "metadata": {
        "id": "gnuBgdS3w_1Y"
      }
    },
    {
      "cell_type": "code",
      "source": [
        "# Add HashingTF and IDF to transformation\n",
        "hashingTF = HashingTF(inputCol=\"filtered\", outputCol=\"rawFeatures\", numFeatures=10000)\n",
        "idf = IDF(inputCol=\"rawFeatures\", outputCol=\"features\", minDocFreq=5) #minDocFreq: remove sparse terms"
      ],
      "metadata": {
        "id": "m6sVZNUYwUAw"
      },
      "execution_count": null,
      "outputs": []
    },
    {
      "cell_type": "markdown",
      "source": [
        "###Creating pipeline for TF-ID"
      ],
      "metadata": {
        "id": "YktYZEXtxHoG"
      }
    },
    {
      "cell_type": "code",
      "source": [
        "pipeline_TF = Pipeline(stages=[regexTokenizer, stopwordsRemover, hashingTF, idf, label_stringIdx])\n",
        "train_TF = pipeline_TF.fit(data)\n",
        "dataset_TF = train_TF.transform(data)"
      ],
      "metadata": {
        "id": "1HjQZkrWxqs4"
      },
      "execution_count": null,
      "outputs": []
    },
    {
      "cell_type": "markdown",
      "source": [
        "###Preparing data for ML model with TF-ID"
      ],
      "metadata": {
        "id": "w47Wyys_xSOu"
      }
    },
    {
      "cell_type": "code",
      "source": [
        "(trainingData_TF, testData_TF) = dataset_TF.randomSplit([0.7, 0.3], seed = 100)\n",
        "print(\"Training Dataset Count: \" + str(trainingData_TF.count()))\n",
        "print(\"Test Dataset Count: \" + str(testData_TF.count()))"
      ],
      "metadata": {
        "colab": {
          "base_uri": "https://localhost:8080/"
        },
        "id": "s881GYRcy5yU",
        "outputId": "9ae52ef0-7fef-4980-b4c0-718969ecf7ed"
      },
      "execution_count": null,
      "outputs": [
        {
          "output_type": "stream",
          "name": "stdout",
          "text": [
            "Training Dataset Count: 1550\n",
            "Test Dataset Count: 675\n"
          ]
        }
      ]
    },
    {
      "cell_type": "markdown",
      "source": [
        "##Model building"
      ],
      "metadata": {
        "id": "9tVME-VgwJFx"
      }
    },
    {
      "cell_type": "markdown",
      "source": [
        "###Base model\n",
        "\n"
      ],
      "metadata": {
        "id": "P1RkBjbnxcfA"
      }
    },
    {
      "cell_type": "code",
      "source": [
        "lr = LogisticRegression(maxIter=20, regParam=0.3, elasticNetParam=0)\n",
        "lr_train = lr.fit(trainingData)\n",
        "predictions = lr_train.transform(testData)"
      ],
      "metadata": {
        "id": "N822ghXLvnXw"
      },
      "execution_count": null,
      "outputs": []
    },
    {
      "cell_type": "code",
      "source": [
        "lr_train_TF = lr.fit(trainingData_TF)\n",
        "predictions_TF = lr_train_TF.transform(testData_TF)"
      ],
      "metadata": {
        "id": "b8srU6SpzHDa"
      },
      "execution_count": null,
      "outputs": []
    },
    {
      "cell_type": "markdown",
      "source": [
        "### Predictions"
      ],
      "metadata": {
        "id": "k6c2L2rLxiej"
      }
    },
    {
      "cell_type": "code",
      "source": [
        "predictions"
      ],
      "metadata": {
        "colab": {
          "base_uri": "https://localhost:8080/"
        },
        "id": "8wPy6bpRwFlT",
        "outputId": "2a71ba15-811c-4032-8f76-e9cdfa483ffd"
      },
      "execution_count": null,
      "outputs": [
        {
          "output_type": "execute_result",
          "data": {
            "text/plain": [
              "DataFrame[category: string, text: string, words: array<string>, filtered: array<string>, features: vector, label: double, rawPrediction: vector, probability: vector, prediction: double]"
            ]
          },
          "metadata": {},
          "execution_count": 32
        }
      ]
    },
    {
      "cell_type": "code",
      "source": [
        "predictions.filter(predictions['prediction'] == 1).select(\"text\",\"category\",\"probability\",\"label\",\"prediction\").orderBy(\"probability\", ascending=False).show(n = 10, truncate = 30)"
      ],
      "metadata": {
        "colab": {
          "base_uri": "https://localhost:8080/"
        },
        "id": "358nnF-KvuBC",
        "outputId": "c38ac3c2-0239-41a9-99d3-aca7acbbbee1"
      },
      "execution_count": null,
      "outputs": [
        {
          "output_type": "stream",
          "name": "stdout",
          "text": [
            "+------------------------------+--------+------------------------------+-----+----------+\n",
            "|                          text|category|                   probability|label|prediction|\n",
            "+------------------------------+--------+------------------------------+-----+----------+\n",
            "|glazer makes new man utd ap...|business|[0.19704857265986547,0.6156...|  1.0|       1.0|\n",
            "|insurance bosses plead guil...|business|[0.17965642764229942,0.6164...|  1.0|       1.0|\n",
            "|gsk aims to stop aids profi...|business|[0.164759317830061,0.422673...|  1.0|       1.0|\n",
            "|russia wto talks  make prog...|business|[0.15617913233636097,0.4328...|  1.0|       1.0|\n",
            "|jp morgan admits us slavery...|business|[0.14205628992160146,0.5606...|  1.0|       1.0|\n",
            "|quiksilver moves for rossig...|business|[0.13542440890690766,0.6974...|  1.0|       1.0|\n",
            "|qatar and shell in $6bn gas...|business|[0.12586040580731306,0.7327...|  1.0|       1.0|\n",
            "|iraq to invite phone licenc...|business|[0.12470222468663826,0.6080...|  1.0|       1.0|\n",
            "|tate & lyle boss bags top a...|business|[0.11933064640147517,0.6907...|  1.0|       1.0|\n",
            "|low-cost airlines hit eurot...|business|[0.11899520899332612,0.7237...|  1.0|       1.0|\n",
            "+------------------------------+--------+------------------------------+-----+----------+\n",
            "only showing top 10 rows\n",
            "\n"
          ]
        }
      ]
    },
    {
      "cell_type": "code",
      "source": [
        "predictions_TF.filter(predictions_TF['prediction'] == 1) \\\n",
        "    .select(\"text\",\"category\",\"probability\",\"label\",\"prediction\") \\\n",
        "    .orderBy(\"probability\", ascending=False) \\\n",
        "    .show(n = 10, truncate = 30)"
      ],
      "metadata": {
        "colab": {
          "base_uri": "https://localhost:8080/"
        },
        "id": "XpQpaX18zmpo",
        "outputId": "1e4221aa-3482-4f82-c106-2aee6bf42ec3"
      },
      "execution_count": null,
      "outputs": [
        {
          "output_type": "stream",
          "name": "stdout",
          "text": [
            "+------------------------------+--------+------------------------------+-----+----------+\n",
            "|                          text|category|                   probability|label|prediction|\n",
            "+------------------------------+--------+------------------------------+-----+----------+\n",
            "|qatar and shell in $6bn gas...|business|[0.2828572526032937,0.48328...|  1.0|       1.0|\n",
            "|insurance bosses plead guil...|business|[0.22977397339345823,0.5239...|  1.0|       1.0|\n",
            "|quiksilver moves for rossig...|business|[0.2172497171426907,0.63072...|  1.0|       1.0|\n",
            "|stormy year for property in...|business|[0.2055608152250655,0.45960...|  1.0|       1.0|\n",
            "|executive trio leave aer li...|business|[0.1880614976109774,0.39560...|  1.0|       1.0|\n",
            "|russia wto talks  make prog...|business|[0.17742410304527462,0.5104...|  1.0|       1.0|\n",
            "|glazer makes new man utd ap...|business|[0.17647856964295097,0.6049...|  1.0|       1.0|\n",
            "|gsk aims to stop aids profi...|business|[0.17542817495291388,0.5198...|  1.0|       1.0|\n",
            "|umbro profits lifted by eur...|business|[0.17472061160296196,0.6628...|  1.0|       1.0|\n",
            "|us ahold suppliers face cha...|business|[0.15240733362409764,0.5854...|  1.0|       1.0|\n",
            "+------------------------------+--------+------------------------------+-----+----------+\n",
            "only showing top 10 rows\n",
            "\n"
          ]
        }
      ]
    },
    {
      "cell_type": "markdown",
      "source": [
        "### Evaluation"
      ],
      "metadata": {
        "id": "iu-WQQOoxkTf"
      }
    },
    {
      "cell_type": "code",
      "source": [
        "evaluator = MulticlassClassificationEvaluator(predictionCol=\"prediction\")\n",
        "evaluator.evaluate(predictions)"
      ],
      "metadata": {
        "colab": {
          "base_uri": "https://localhost:8080/"
        },
        "id": "PCfPByiWv_iW",
        "outputId": "7fd659e0-b205-4dba-94e0-31f8e748f22e"
      },
      "execution_count": null,
      "outputs": [
        {
          "output_type": "execute_result",
          "data": {
            "text/plain": [
              "0.9688624452757706"
            ]
          },
          "metadata": {},
          "execution_count": 34
        }
      ]
    },
    {
      "cell_type": "code",
      "source": [
        "evaluator.evaluate(predictions_TF)"
      ],
      "metadata": {
        "colab": {
          "base_uri": "https://localhost:8080/"
        },
        "id": "KVWPin93zqql",
        "outputId": "fb06fb88-9cf7-4ec6-afff-d42bc1bbd60c"
      },
      "execution_count": null,
      "outputs": [
        {
          "output_type": "execute_result",
          "data": {
            "text/plain": [
              "0.9614406618744511"
            ]
          },
          "metadata": {},
          "execution_count": 43
        }
      ]
    },
    {
      "cell_type": "code",
      "source": [
        "predictions.groupBy(\"prediction\").count().orderBy(col(\"count\").desc()).show()"
      ],
      "metadata": {
        "colab": {
          "base_uri": "https://localhost:8080/"
        },
        "id": "_me81uq208Uv",
        "outputId": "92d4a75c-e722-4edd-b15a-b37abc9c86a3"
      },
      "execution_count": null,
      "outputs": [
        {
          "output_type": "stream",
          "name": "stdout",
          "text": [
            "+----------+-----+\n",
            "|prediction|count|\n",
            "+----------+-----+\n",
            "|       1.0|  159|\n",
            "|       0.0|  158|\n",
            "|       3.0|  123|\n",
            "|       2.0|  122|\n",
            "|       4.0|  113|\n",
            "+----------+-----+\n",
            "\n"
          ]
        }
      ]
    },
    {
      "cell_type": "code",
      "source": [
        "predictions_TF.groupBy(\"prediction\").count().orderBy(col(\"count\").desc()).show()"
      ],
      "metadata": {
        "colab": {
          "base_uri": "https://localhost:8080/"
        },
        "id": "2OHYKHB40V4g",
        "outputId": "6276737e-6045-493f-e0bc-f7bacfdbf70b"
      },
      "execution_count": null,
      "outputs": [
        {
          "output_type": "stream",
          "name": "stdout",
          "text": [
            "+----------+-----+\n",
            "|prediction|count|\n",
            "+----------+-----+\n",
            "|       0.0|  158|\n",
            "|       1.0|  158|\n",
            "|       3.0|  123|\n",
            "|       2.0|  122|\n",
            "|       4.0|  114|\n",
            "+----------+-----+\n",
            "\n"
          ]
        }
      ]
    },
    {
      "cell_type": "code",
      "source": [
        "predictions.groupBy(\"label\").count().orderBy(col(\"count\").desc()).show()"
      ],
      "metadata": {
        "colab": {
          "base_uri": "https://localhost:8080/"
        },
        "id": "UwXnJWjE5l_f",
        "outputId": "ee11a4b3-4e3d-493f-ace6-547577504787"
      },
      "execution_count": null,
      "outputs": [
        {
          "output_type": "stream",
          "name": "stdout",
          "text": [
            "+-----+-----+\n",
            "|label|count|\n",
            "+-----+-----+\n",
            "|  0.0|  156|\n",
            "|  1.0|  154|\n",
            "|  3.0|  128|\n",
            "|  2.0|  125|\n",
            "|  4.0|  112|\n",
            "+-----+-----+\n",
            "\n"
          ]
        }
      ]
    },
    {
      "cell_type": "code",
      "source": [
        "pred_df=predictions.toPandas()\n",
        "pred_df_TF=predictions_TF.toPandas()"
      ],
      "metadata": {
        "id": "d4C8QDVc0od-"
      },
      "execution_count": null,
      "outputs": []
    },
    {
      "cell_type": "code",
      "source": [
        "pred_df[:2]"
      ],
      "metadata": {
        "colab": {
          "base_uri": "https://localhost:8080/",
          "height": 190
        },
        "id": "n9P8tJQ52cyy",
        "outputId": "d4fa462a-c9ca-41fe-a789-c18ff0174fed"
      },
      "execution_count": null,
      "outputs": [
        {
          "output_type": "execute_result",
          "data": {
            "text/plain": [
              "   category                                               text  \\\n",
              "0  business  ad sales boost time warner profit quarterly pr...   \n",
              "1  business  amex shares up on spin-off news shares in amer...   \n",
              "\n",
              "                                               words  \\\n",
              "0  [ad, sales, boost, time, warner, profit, quart...   \n",
              "1  [amex, shares, up, on, spin, off, news, shares...   \n",
              "\n",
              "                                            filtered  \\\n",
              "0  [ad, sales, boost, time, warner, profit, quart...   \n",
              "1  [amex, shares, up, on, spin, off, news, shares...   \n",
              "\n",
              "                                            features  label  \\\n",
              "0  (18.0, 12.0, 10.0, 8.0, 7.0, 4.0, 7.0, 5.0, 3....    1.0   \n",
              "1  (4.0, 4.0, 3.0, 5.0, 1.0, 0.0, 1.0, 1.0, 1.0, ...    1.0   \n",
              "\n",
              "                                       rawPrediction  \\\n",
              "0  [-1.7821051263569019, 4.960901351666112, -2.34...   \n",
              "1  [-0.28529831875587774, 2.544875329841223, -1.0...   \n",
              "\n",
              "                                         probability  prediction  \n",
              "0  [0.0011619165785615772, 0.9854292594343937, 0....         1.0  \n",
              "1  [0.05031983613704373, 0.8528408937248756, 0.02...         1.0  "
            ],
            "text/html": [
              "\n",
              "  <div id=\"df-7d75bd1a-3e4f-44d4-8305-05d2998d7994\">\n",
              "    <div class=\"colab-df-container\">\n",
              "      <div>\n",
              "<style scoped>\n",
              "    .dataframe tbody tr th:only-of-type {\n",
              "        vertical-align: middle;\n",
              "    }\n",
              "\n",
              "    .dataframe tbody tr th {\n",
              "        vertical-align: top;\n",
              "    }\n",
              "\n",
              "    .dataframe thead th {\n",
              "        text-align: right;\n",
              "    }\n",
              "</style>\n",
              "<table border=\"1\" class=\"dataframe\">\n",
              "  <thead>\n",
              "    <tr style=\"text-align: right;\">\n",
              "      <th></th>\n",
              "      <th>category</th>\n",
              "      <th>text</th>\n",
              "      <th>words</th>\n",
              "      <th>filtered</th>\n",
              "      <th>features</th>\n",
              "      <th>label</th>\n",
              "      <th>rawPrediction</th>\n",
              "      <th>probability</th>\n",
              "      <th>prediction</th>\n",
              "    </tr>\n",
              "  </thead>\n",
              "  <tbody>\n",
              "    <tr>\n",
              "      <th>0</th>\n",
              "      <td>business</td>\n",
              "      <td>ad sales boost time warner profit quarterly pr...</td>\n",
              "      <td>[ad, sales, boost, time, warner, profit, quart...</td>\n",
              "      <td>[ad, sales, boost, time, warner, profit, quart...</td>\n",
              "      <td>(18.0, 12.0, 10.0, 8.0, 7.0, 4.0, 7.0, 5.0, 3....</td>\n",
              "      <td>1.0</td>\n",
              "      <td>[-1.7821051263569019, 4.960901351666112, -2.34...</td>\n",
              "      <td>[0.0011619165785615772, 0.9854292594343937, 0....</td>\n",
              "      <td>1.0</td>\n",
              "    </tr>\n",
              "    <tr>\n",
              "      <th>1</th>\n",
              "      <td>business</td>\n",
              "      <td>amex shares up on spin-off news shares in amer...</td>\n",
              "      <td>[amex, shares, up, on, spin, off, news, shares...</td>\n",
              "      <td>[amex, shares, up, on, spin, off, news, shares...</td>\n",
              "      <td>(4.0, 4.0, 3.0, 5.0, 1.0, 0.0, 1.0, 1.0, 1.0, ...</td>\n",
              "      <td>1.0</td>\n",
              "      <td>[-0.28529831875587774, 2.544875329841223, -1.0...</td>\n",
              "      <td>[0.05031983613704373, 0.8528408937248756, 0.02...</td>\n",
              "      <td>1.0</td>\n",
              "    </tr>\n",
              "  </tbody>\n",
              "</table>\n",
              "</div>\n",
              "      <button class=\"colab-df-convert\" onclick=\"convertToInteractive('df-7d75bd1a-3e4f-44d4-8305-05d2998d7994')\"\n",
              "              title=\"Convert this dataframe to an interactive table.\"\n",
              "              style=\"display:none;\">\n",
              "        \n",
              "  <svg xmlns=\"http://www.w3.org/2000/svg\" height=\"24px\"viewBox=\"0 0 24 24\"\n",
              "       width=\"24px\">\n",
              "    <path d=\"M0 0h24v24H0V0z\" fill=\"none\"/>\n",
              "    <path d=\"M18.56 5.44l.94 2.06.94-2.06 2.06-.94-2.06-.94-.94-2.06-.94 2.06-2.06.94zm-11 1L8.5 8.5l.94-2.06 2.06-.94-2.06-.94L8.5 2.5l-.94 2.06-2.06.94zm10 10l.94 2.06.94-2.06 2.06-.94-2.06-.94-.94-2.06-.94 2.06-2.06.94z\"/><path d=\"M17.41 7.96l-1.37-1.37c-.4-.4-.92-.59-1.43-.59-.52 0-1.04.2-1.43.59L10.3 9.45l-7.72 7.72c-.78.78-.78 2.05 0 2.83L4 21.41c.39.39.9.59 1.41.59.51 0 1.02-.2 1.41-.59l7.78-7.78 2.81-2.81c.8-.78.8-2.07 0-2.86zM5.41 20L4 18.59l7.72-7.72 1.47 1.35L5.41 20z\"/>\n",
              "  </svg>\n",
              "      </button>\n",
              "      \n",
              "  <style>\n",
              "    .colab-df-container {\n",
              "      display:flex;\n",
              "      flex-wrap:wrap;\n",
              "      gap: 12px;\n",
              "    }\n",
              "\n",
              "    .colab-df-convert {\n",
              "      background-color: #E8F0FE;\n",
              "      border: none;\n",
              "      border-radius: 50%;\n",
              "      cursor: pointer;\n",
              "      display: none;\n",
              "      fill: #1967D2;\n",
              "      height: 32px;\n",
              "      padding: 0 0 0 0;\n",
              "      width: 32px;\n",
              "    }\n",
              "\n",
              "    .colab-df-convert:hover {\n",
              "      background-color: #E2EBFA;\n",
              "      box-shadow: 0px 1px 2px rgba(60, 64, 67, 0.3), 0px 1px 3px 1px rgba(60, 64, 67, 0.15);\n",
              "      fill: #174EA6;\n",
              "    }\n",
              "\n",
              "    [theme=dark] .colab-df-convert {\n",
              "      background-color: #3B4455;\n",
              "      fill: #D2E3FC;\n",
              "    }\n",
              "\n",
              "    [theme=dark] .colab-df-convert:hover {\n",
              "      background-color: #434B5C;\n",
              "      box-shadow: 0px 1px 3px 1px rgba(0, 0, 0, 0.15);\n",
              "      filter: drop-shadow(0px 1px 2px rgba(0, 0, 0, 0.3));\n",
              "      fill: #FFFFFF;\n",
              "    }\n",
              "  </style>\n",
              "\n",
              "      <script>\n",
              "        const buttonEl =\n",
              "          document.querySelector('#df-7d75bd1a-3e4f-44d4-8305-05d2998d7994 button.colab-df-convert');\n",
              "        buttonEl.style.display =\n",
              "          google.colab.kernel.accessAllowed ? 'block' : 'none';\n",
              "\n",
              "        async function convertToInteractive(key) {\n",
              "          const element = document.querySelector('#df-7d75bd1a-3e4f-44d4-8305-05d2998d7994');\n",
              "          const dataTable =\n",
              "            await google.colab.kernel.invokeFunction('convertToInteractive',\n",
              "                                                     [key], {});\n",
              "          if (!dataTable) return;\n",
              "\n",
              "          const docLinkHtml = 'Like what you see? Visit the ' +\n",
              "            '<a target=\"_blank\" href=https://colab.research.google.com/notebooks/data_table.ipynb>data table notebook</a>'\n",
              "            + ' to learn more about interactive tables.';\n",
              "          element.innerHTML = '';\n",
              "          dataTable['output_type'] = 'display_data';\n",
              "          await google.colab.output.renderOutput(dataTable, element);\n",
              "          const docLink = document.createElement('div');\n",
              "          docLink.innerHTML = docLinkHtml;\n",
              "          element.appendChild(docLink);\n",
              "        }\n",
              "      </script>\n",
              "    </div>\n",
              "  </div>\n",
              "  "
            ]
          },
          "metadata": {},
          "execution_count": 49
        }
      ]
    },
    {
      "cell_type": "markdown",
      "source": [
        "### Analysing the predictions"
      ],
      "metadata": {
        "id": "jgw4B7FfxyPB"
      }
    },
    {
      "cell_type": "code",
      "source": [
        "fig,axes=plt.subplots(1,3,figsize=(18,7.5),sharex=True)\n",
        "fig.suptitle(\"Distribution of predicted labels\",size=20,weight='bold')\n",
        "sns.countplot(ax=axes[0],data=pred_df,x='prediction')\n",
        "axes[0].set_title(\"By using Re|CountVectors|StopWords\")\n",
        "sns.countplot(ax=axes[1],data=pred_df_TF,x='prediction')\n",
        "axes[1].set_title(\"By using TF-ID\")\n",
        "sns.countplot(ax=axes[2],data=pred_df_TF,x='label')\n",
        "axes[2].set_title(\"Orginal labels\")\n",
        "plt.show()"
      ],
      "metadata": {
        "colab": {
          "base_uri": "https://localhost:8080/",
          "height": 524
        },
        "id": "MywsM7k72hNA",
        "outputId": "aba55a26-2b64-4b52-bd42-c050d11ec89e"
      },
      "execution_count": null,
      "outputs": [
        {
          "output_type": "display_data",
          "data": {
            "text/plain": [
              "<Figure size 1296x540 with 3 Axes>"
            ],
            "image/png": "[encoded data removed]"
          },
          "metadata": {
            "needs_background": "light"
          }
        }
      ]
    },
    {
      "cell_type": "markdown",
      "source": [
        "##Tunning the model"
      ],
      "metadata": {
        "id": "1nhn8aqfwaLi"
      }
    },
    {
      "cell_type": "markdown",
      "source": [
        "###Grid Search"
      ],
      "metadata": {
        "id": "G2hyCdG1x2Ji"
      }
    },
    {
      "cell_type": "code",
      "source": [
        "paramGrid = (ParamGridBuilder()\n",
        "             .addGrid(lr.regParam, [0.1, 0.3, 0.5]) # regularization parameter\n",
        "             .addGrid(lr.elasticNetParam, [0.0, 0.1, 0.2]) # Elastic Net Parameter (Ridge = 0)\n",
        "             .addGrid(lr.maxIter, [10, 20, 50]) #Number of iterations\n",
        "             .build())"
      ],
      "metadata": {
        "id": "qsgxNUyz3jlj"
      },
      "execution_count": null,
      "outputs": []
    },
    {
      "cell_type": "markdown",
      "source": [
        "### Cross validation"
      ],
      "metadata": {
        "id": "zddxBbUQx61B"
      }
    },
    {
      "cell_type": "code",
      "source": [
        "tunner = CrossValidator(estimator=lr,\n",
        "                    estimatorParamMaps=paramGrid,\n",
        "                    evaluator=evaluator,\n",
        "                    numFolds=5)"
      ],
      "metadata": {
        "id": "moLLYKlqATec"
      },
      "execution_count": null,
      "outputs": []
    },
    {
      "cell_type": "markdown",
      "source": [
        "###Training"
      ],
      "metadata": {
        "id": "yIV9DQshx-Te"
      }
    },
    {
      "cell_type": "code",
      "source": [
        "model_verion_1 = tunner.fit(trainingData)\n",
        "predictions = model_verion_1.transform(testData)"
      ],
      "metadata": {
        "id": "RYt4ruk0Ab7k"
      },
      "execution_count": null,
      "outputs": []
    },
    {
      "cell_type": "markdown",
      "source": [
        "###Evaluating"
      ],
      "metadata": {
        "id": "WGkzNbhcyAaU"
      }
    },
    {
      "cell_type": "code",
      "source": [
        "evaluator.evaluate(predictions)"
      ],
      "metadata": {
        "colab": {
          "base_uri": "https://localhost:8080/"
        },
        "id": "pOJvL9T5E3BB",
        "outputId": "1926d2d9-ef0f-4b80-844e-57d652fc0577"
      },
      "execution_count": null,
      "outputs": [
        {
          "output_type": "execute_result",
          "data": {
            "text/plain": [
              "0.9747361208010044"
            ]
          },
          "metadata": {},
          "execution_count": 73
        }
      ]
    },
    {
      "cell_type": "code",
      "source": [
        "tunned_preds=predictions.toPandas()"
      ],
      "metadata": {
        "id": "jt9b8L5aFLKW"
      },
      "execution_count": null,
      "outputs": []
    },
    {
      "cell_type": "code",
      "source": [
        "tunned_preds[:2]"
      ],
      "metadata": {
        "colab": {
          "base_uri": "https://localhost:8080/",
          "height": 190
        },
        "id": "LLUS-xstFRb6",
        "outputId": "135c6229-bf3a-47d8-f9d8-0081315db2d0"
      },
      "execution_count": null,
      "outputs": [
        {
          "output_type": "execute_result",
          "data": {
            "text/plain": [
              "   category                                               text  \\\n",
              "0  business  ad sales boost time warner profit quarterly pr...   \n",
              "1  business  amex shares up on spin-off news shares in amer...   \n",
              "\n",
              "                                               words  \\\n",
              "0  [ad, sales, boost, time, warner, profit, quart...   \n",
              "1  [amex, shares, up, on, spin, off, news, shares...   \n",
              "\n",
              "                                            filtered  \\\n",
              "0  [ad, sales, boost, time, warner, profit, quart...   \n",
              "1  [amex, shares, up, on, spin, off, news, shares...   \n",
              "\n",
              "                                            features  label  \\\n",
              "0  (18.0, 12.0, 10.0, 8.0, 7.0, 4.0, 7.0, 5.0, 3....    1.0   \n",
              "1  (4.0, 4.0, 3.0, 5.0, 1.0, 0.0, 1.0, 1.0, 1.0, ...    1.0   \n",
              "\n",
              "                                       rawPrediction  \\\n",
              "0  [-0.3054029491941147, 5.743274595896988, -0.06...   \n",
              "1  [0.0494493928543594, 3.3881275906335904, -0.11...   \n",
              "\n",
              "                                         probability  prediction  \n",
              "0  [0.002239923336760231, 0.9487251971547862, 0.0...         1.0  \n",
              "1  [0.031252878464942055, 0.8807639717796664, 0.0...         1.0  "
            ],
            "text/html": [
              "\n",
              "  <div id=\"df-e6ec02d1-2941-40a9-8c28-6ad8529bd5ce\">\n",
              "    <div class=\"colab-df-container\">\n",
              "      <div>\n",
              "<style scoped>\n",
              "    .dataframe tbody tr th:only-of-type {\n",
              "        vertical-align: middle;\n",
              "    }\n",
              "\n",
              "    .dataframe tbody tr th {\n",
              "        vertical-align: top;\n",
              "    }\n",
              "\n",
              "    .dataframe thead th {\n",
              "        text-align: right;\n",
              "    }\n",
              "</style>\n",
              "<table border=\"1\" class=\"dataframe\">\n",
              "  <thead>\n",
              "    <tr style=\"text-align: right;\">\n",
              "      <th></th>\n",
              "      <th>category</th>\n",
              "      <th>text</th>\n",
              "      <th>words</th>\n",
              "      <th>filtered</th>\n",
              "      <th>features</th>\n",
              "      <th>label</th>\n",
              "      <th>rawPrediction</th>\n",
              "      <th>probability</th>\n",
              "      <th>prediction</th>\n",
              "    </tr>\n",
              "  </thead>\n",
              "  <tbody>\n",
              "    <tr>\n",
              "      <th>0</th>\n",
              "      <td>business</td>\n",
              "      <td>ad sales boost time warner profit quarterly pr...</td>\n",
              "      <td>[ad, sales, boost, time, warner, profit, quart...</td>\n",
              "      <td>[ad, sales, boost, time, warner, profit, quart...</td>\n",
              "      <td>(18.0, 12.0, 10.0, 8.0, 7.0, 4.0, 7.0, 5.0, 3....</td>\n",
              "      <td>1.0</td>\n",
              "      <td>[-0.3054029491941147, 5.743274595896988, -0.06...</td>\n",
              "      <td>[0.002239923336760231, 0.9487251971547862, 0.0...</td>\n",
              "      <td>1.0</td>\n",
              "    </tr>\n",
              "    <tr>\n",
              "      <th>1</th>\n",
              "      <td>business</td>\n",
              "      <td>amex shares up on spin-off news shares in amer...</td>\n",
              "      <td>[amex, shares, up, on, spin, off, news, shares...</td>\n",
              "      <td>[amex, shares, up, on, spin, off, news, shares...</td>\n",
              "      <td>(4.0, 4.0, 3.0, 5.0, 1.0, 0.0, 1.0, 1.0, 1.0, ...</td>\n",
              "      <td>1.0</td>\n",
              "      <td>[0.0494493928543594, 3.3881275906335904, -0.11...</td>\n",
              "      <td>[0.031252878464942055, 0.8807639717796664, 0.0...</td>\n",
              "      <td>1.0</td>\n",
              "    </tr>\n",
              "  </tbody>\n",
              "</table>\n",
              "</div>\n",
              "      <button class=\"colab-df-convert\" onclick=\"convertToInteractive('df-e6ec02d1-2941-40a9-8c28-6ad8529bd5ce')\"\n",
              "              title=\"Convert this dataframe to an interactive table.\"\n",
              "              style=\"display:none;\">\n",
              "        \n",
              "  <svg xmlns=\"http://www.w3.org/2000/svg\" height=\"24px\"viewBox=\"0 0 24 24\"\n",
              "       width=\"24px\">\n",
              "    <path d=\"M0 0h24v24H0V0z\" fill=\"none\"/>\n",
              "    <path d=\"M18.56 5.44l.94 2.06.94-2.06 2.06-.94-2.06-.94-.94-2.06-.94 2.06-2.06.94zm-11 1L8.5 8.5l.94-2.06 2.06-.94-2.06-.94L8.5 2.5l-.94 2.06-2.06.94zm10 10l.94 2.06.94-2.06 2.06-.94-2.06-.94-.94-2.06-.94 2.06-2.06.94z\"/><path d=\"M17.41 7.96l-1.37-1.37c-.4-.4-.92-.59-1.43-.59-.52 0-1.04.2-1.43.59L10.3 9.45l-7.72 7.72c-.78.78-.78 2.05 0 2.83L4 21.41c.39.39.9.59 1.41.59.51 0 1.02-.2 1.41-.59l7.78-7.78 2.81-2.81c.8-.78.8-2.07 0-2.86zM5.41 20L4 18.59l7.72-7.72 1.47 1.35L5.41 20z\"/>\n",
              "  </svg>\n",
              "      </button>\n",
              "      \n",
              "  <style>\n",
              "    .colab-df-container {\n",
              "      display:flex;\n",
              "      flex-wrap:wrap;\n",
              "      gap: 12px;\n",
              "    }\n",
              "\n",
              "    .colab-df-convert {\n",
              "      background-color: #E8F0FE;\n",
              "      border: none;\n",
              "      border-radius: 50%;\n",
              "      cursor: pointer;\n",
              "      display: none;\n",
              "      fill: #1967D2;\n",
              "      height: 32px;\n",
              "      padding: 0 0 0 0;\n",
              "      width: 32px;\n",
              "    }\n",
              "\n",
              "    .colab-df-convert:hover {\n",
              "      background-color: #E2EBFA;\n",
              "      box-shadow: 0px 1px 2px rgba(60, 64, 67, 0.3), 0px 1px 3px 1px rgba(60, 64, 67, 0.15);\n",
              "      fill: #174EA6;\n",
              "    }\n",
              "\n",
              "    [theme=dark] .colab-df-convert {\n",
              "      background-color: #3B4455;\n",
              "      fill: #D2E3FC;\n",
              "    }\n",
              "\n",
              "    [theme=dark] .colab-df-convert:hover {\n",
              "      background-color: #434B5C;\n",
              "      box-shadow: 0px 1px 3px 1px rgba(0, 0, 0, 0.15);\n",
              "      filter: drop-shadow(0px 1px 2px rgba(0, 0, 0, 0.3));\n",
              "      fill: #FFFFFF;\n",
              "    }\n",
              "  </style>\n",
              "\n",
              "      <script>\n",
              "        const buttonEl =\n",
              "          document.querySelector('#df-e6ec02d1-2941-40a9-8c28-6ad8529bd5ce button.colab-df-convert');\n",
              "        buttonEl.style.display =\n",
              "          google.colab.kernel.accessAllowed ? 'block' : 'none';\n",
              "\n",
              "        async function convertToInteractive(key) {\n",
              "          const element = document.querySelector('#df-e6ec02d1-2941-40a9-8c28-6ad8529bd5ce');\n",
              "          const dataTable =\n",
              "            await google.colab.kernel.invokeFunction('convertToInteractive',\n",
              "                                                     [key], {});\n",
              "          if (!dataTable) return;\n",
              "\n",
              "          const docLinkHtml = 'Like what you see? Visit the ' +\n",
              "            '<a target=\"_blank\" href=https://colab.research.google.com/notebooks/data_table.ipynb>data table notebook</a>'\n",
              "            + ' to learn more about interactive tables.';\n",
              "          element.innerHTML = '';\n",
              "          dataTable['output_type'] = 'display_data';\n",
              "          await google.colab.output.renderOutput(dataTable, element);\n",
              "          const docLink = document.createElement('div');\n",
              "          docLink.innerHTML = docLinkHtml;\n",
              "          element.appendChild(docLink);\n",
              "        }\n",
              "      </script>\n",
              "    </div>\n",
              "  </div>\n",
              "  "
            ]
          },
          "metadata": {},
          "execution_count": 75
        }
      ]
    },
    {
      "cell_type": "markdown",
      "source": [
        "##Analysing the predicitons"
      ],
      "metadata": {
        "id": "lFwhJS1Xwcuk"
      }
    },
    {
      "cell_type": "code",
      "source": [
        "fig,axes=plt.subplots(1,2,figsize=(18,7.5),sharex=True)\n",
        "fig.suptitle(\"Tunned model\",size=20,weight='bold')\n",
        "sns.countplot(ax=axes[0],data=tunned_preds,x='prediction')\n",
        "axes[0].set_title(\"Predicted labels\")\n",
        "sns.countplot(ax=axes[1],data=tunned_preds,x='label')\n",
        "axes[1].set_title(\"Orginal labels\")\n",
        "plt.show()"
      ],
      "metadata": {
        "colab": {
          "base_uri": "https://localhost:8080/",
          "height": 524
        },
        "id": "jwBxzEgQE8OY",
        "outputId": "d45b4370-9bff-4ad6-a8ea-63f88ce975fb"
      },
      "execution_count": null,
      "outputs": [
        {
          "output_type": "display_data",
          "data": {
            "text/plain": [
              "<Figure size 1296x540 with 2 Axes>"
            ],
            "image/png": "[encoded data removed]"
          },
          "metadata": {
            "needs_background": "light"
          }
        }
      ]
    }
  ]
}